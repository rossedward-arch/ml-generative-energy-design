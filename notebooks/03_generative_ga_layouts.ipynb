{
 "cells": [
  {
   "cell_type": "markdown",
   "id": "2105b065-32eb-443a-8a20-8261b5de4863",
   "metadata": {},
   "source": [
    "# Generative Design Using Genetic Algorithms\n",
    "\n",
    "This notebook demonstrates a basic genetic algorithm (GA) to generate and evolve building layout parameters.\n",
    "\n",
    "- Create initial population of random designs\n",
    "- Define a fitness function (e.g., energy efficiency proxy)\n",
    "- Implement crossover and mutation to explore design space\n",
    "- Iterate generations to improve design fitness\n",
    "\n",
    "This approach supports exploring multiple design options optimized for energy performance.\n"
   ]
  },
  {
   "cell_type": "code",
   "execution_count": null,
   "id": "1d245adf-d65a-4c10-87de-9cfa574385b2",
   "metadata": {},
   "outputs": [],
   "source": [
    "# 03_generative_ga_layouts.ipynb\n",
    "# Implement a simple genetic algorithm for generative building layout design\n",
    "\n",
    "import random\n",
    "\n",
    "# Example parameters\n",
    "population_size = 10\n",
    "generations = 5\n",
    "\n",
    "# Example individual representation (e.g., layout parameters)\n",
    "def create_individual():\n",
    "    return [random.randint(0, 10) for _ in range(5)]\n",
    "\n",
    "def fitness(individual):\n",
    "    # Dummy fitness function: sum of genes (replace with energy efficiency eval)\n",
    "    return sum(individual)\n",
    "\n",
    "def mutate(individual):\n",
    "    idx = random.randint(0, len(individual) - 1)\n",
    "    individual[idx] = random.randint(0, 10)\n",
    "\n",
    "def crossover(parent1, parent2):\n",
    "    point = random.randint(1, len(parent1) - 1)\n",
    "    return parent1[:point] + parent2[point:]\n",
    "\n",
    "# Initialize population\n",
    "population = [create_individual() for _ in range(population_size)]\n",
    "\n",
    "for gen in range(generations):\n",
    "    # Evaluate fitness\n",
    "    scored_pop = [(ind, fitness(ind)) for ind in population]\n",
    "    scored_pop.sort(key=lambda x: x[1], reverse=True)\n",
    "    \n",
    "    print(f'Generation {gen} best fitness: {scored_pop[0][1]}')\n",
    "    \n",
    "    # Select parents\n",
    "    parents = [ind for ind, score in scored_pop[:population_size//2]]\n",
    "    \n",
    "    # Create next generation\n",
    "    next_gen = parents.copy()\n",
    "    while len(next_gen) < population_size:\n",
    "        p1, p2 = random.sample(parents, 2)\n",
    "        child = crossover(p1, p2)\n",
    "        if random.random() < 0.1:\n",
    "            mutate(child)\n",
    "        next_gen.append(child)\n",
    "    \n",
    "    population = next_gen\n"
   ]
  }
 ],
 "metadata": {
  "kernelspec": {
   "display_name": "Python 3 (ipykernel)",
   "language": "python",
   "name": "python3"
  },
  "language_info": {
   "codemirror_mode": {
    "name": "ipython",
    "version": 3
   },
   "file_extension": ".py",
   "mimetype": "text/x-python",
   "name": "python",
   "nbconvert_exporter": "python",
   "pygments_lexer": "ipython3",
   "version": "3.11.4"
  }
 },
 "nbformat": 4,
 "nbformat_minor": 5
}
