{
 "cells": [
  {
   "cell_type": "markdown",
   "id": "11deb4f3-b3e2-47f7-8b3f-2706b29b5ea4",
   "metadata": {},
   "source": [
    "# Energy Use Regression Model\n",
    "\n",
    "This notebook builds a simple regression model to predict building energy use based on design parameters.\n",
    "\n",
    "- Prepare features and target variables from datasets\n",
    "- Split data into training and testing sets\n",
    "- Train and evaluate a linear regression model\n",
    "- Review model accuracy with metrics like MSE and R²\n",
    "\n",
    "This is a foundation for more complex machine learning models.\n"
   ]
  },
  {
   "cell_type": "code",
   "execution_count": null,
   "id": "32e8ec8e-aae2-4f38-8422-665c3c23c7f4",
   "metadata": {},
   "outputs": [],
   "source": [
    "# 02_regression_energy.ipynb\n",
    "# Build and evaluate a simple regression model to predict energy use\n",
    "\n",
    "import pandas as pd\n",
    "from sklearn.model_selection import train_test_split\n",
    "from sklearn.linear_model import LinearRegression\n",
    "from sklearn.metrics import mean_squared_error, r2_score\n",
    "\n",
    "# Load dataset\n",
    "data_path = '../data/processed/sample_energy_data.csv'\n",
    "df = pd.read_csv(data_path)\n",
    "\n",
    "# Prepare features and target variable\n",
    "X = df[['feature1', 'feature2', 'feature3']]  # replace with actual features\n",
    "y = df['energy_use_kWh']\n",
    "\n",
    "# Split data\n",
    "X_train, X_test, y_train, y_test = train_test_split(X, y, test_size=0.2, random_state=42)\n",
    "\n",
    "# Train linear regression model\n",
    "model = LinearRegression()\n",
    "model.fit(X_train, y_train)\n",
    "\n",
    "# Predict\n",
    "y_pred = model.predict(X_test)\n",
    "\n",
    "# Evaluate\n",
    "mse = mean_squared_error(y_test, y_pred)\n",
    "r2 = r2_score(y_test, y_pred)\n",
    "\n",
    "print(f'Mean Squared Error: {mse:.2f}')\n",
    "print(f'R^2 Score: {r2:.2f}')\n"
   ]
  }
 ],
 "metadata": {
  "kernelspec": {
   "display_name": "Python 3 (ipykernel)",
   "language": "python",
   "name": "python3"
  },
  "language_info": {
   "codemirror_mode": {
    "name": "ipython",
    "version": 3
   },
   "file_extension": ".py",
   "mimetype": "text/x-python",
   "name": "python",
   "nbconvert_exporter": "python",
   "pygments_lexer": "ipython3",
   "version": "3.11.4"
  }
 },
 "nbformat": 4,
 "nbformat_minor": 5
}
