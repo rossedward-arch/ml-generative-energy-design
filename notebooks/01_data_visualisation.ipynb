{
 "cells": [
  {
   "cell_type": "markdown",
   "id": "055fb8a2-b036-49ce-9d23-2aee545bc15e",
   "metadata": {},
   "source": [
    "# Data Visualisation and Exploration\n",
    "\n",
    "This notebook focuses on exploring and visualizing building energy data.\n",
    "\n",
    "- Load raw and processed datasets (CSV, JSON, EPW files)\n",
    "- Understand data distribution and trends\n",
    "- Create plots to help identify patterns in energy use\n",
    "\n",
    "This step is crucial for understanding the data before building machine learning models.\n"
   ]
  },
  {
   "cell_type": "code",
   "execution_count": null,
   "id": "6cc3d31f-f035-4780-bb0b-6be773c32a46",
   "metadata": {},
   "outputs": [],
   "source": [
    "# 01_data_visualisation.ipynb\n",
    "# Explore and visualize raw and processed energy data\n",
    "\n",
    "import pandas as pd\n",
    "import matplotlib.pyplot as plt\n",
    "import seaborn as sns\n",
    "\n",
    "# Load dataset (update path as needed)\n",
    "data_path = '../data/processed/sample_energy_data.csv'\n",
    "df = pd.read_csv(data_path)\n",
    "\n",
    "# Show first few rows\n",
    "print(df.head())\n",
    "\n",
    "# Plot energy use over time\n",
    "plt.figure(figsize=(12,6))\n",
    "sns.lineplot(data=df, x='timestamp', y='energy_use_kWh')\n",
    "plt.title('Energy Use Over Time')\n",
    "plt.xlabel('Timestamp')\n",
    "plt.ylabel('Energy Use (kWh)')\n",
    "plt.xticks(rotation=45)\n",
    "plt.tight_layout()\n",
    "plt.show()\n"
   ]
  }
 ],
 "metadata": {
  "kernelspec": {
   "display_name": "Python 3 (ipykernel)",
   "language": "python",
   "name": "python3"
  },
  "language_info": {
   "codemirror_mode": {
    "name": "ipython",
    "version": 3
   },
   "file_extension": ".py",
   "mimetype": "text/x-python",
   "name": "python",
   "nbconvert_exporter": "python",
   "pygments_lexer": "ipython3",
   "version": "3.11.4"
  }
 },
 "nbformat": 4,
 "nbformat_minor": 5
}
